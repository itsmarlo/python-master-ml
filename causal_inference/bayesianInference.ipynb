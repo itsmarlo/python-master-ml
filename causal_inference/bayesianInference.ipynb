{
 "cells": [
  {
   "cell_type": "code",
   "execution_count": null,
   "metadata": {
    "vscode": {
     "languageId": "plaintext"
    }
   },
   "outputs": [],
   "source": [
    "import numpy as np\n",
    "import scipy.stats as stats\n",
    "import matplotlib.pyplot as plt\n",
    "\n",
    "# Prior parameters\n",
    "alpha, beta = 3, 2\n",
    "\n",
    "# Observed data: 15 successful purchases out of 30 people contacted\n",
    "x, n = 15, 30\n",
    "\n",
    "# Posterior parameters\n",
    "alpha_post = alpha + x\n",
    "beta_post = beta + (n - x)\n",
    "\n",
    "# Plot prior and posterior\n",
    "x_vals = np.linspace(0, 1, 100)\n",
    "\n",
    "# Prior Distribution (Beta distribution with parameters alpha, beta)\n",
    "plt.plot(x_vals, stats.beta.pdf(x_vals, alpha, beta), label='Prior')\n",
    "\n",
    "# Posterior Distribution (Beta distribution with updated parameters)\n",
    "plt.plot(x_vals, stats.beta.pdf(x_vals, alpha_post, beta_post), label='Posterior')\n",
    "\n",
    "# Labels and legend\n",
    "plt.legend()\n",
    "plt.title('Bayesian Updating of Product Purchase Probability')\n",
    "plt.xlabel('Probability of Purchase (θ)')\n",
    "plt.ylabel('Density')\n",
    "\n",
    "# Display the plot\n",
    "plt.show()\n"
   ]
  }
 ],
 "metadata": {
  "language_info": {
   "name": "python"
  }
 },
 "nbformat": 4,
 "nbformat_minor": 2
}
